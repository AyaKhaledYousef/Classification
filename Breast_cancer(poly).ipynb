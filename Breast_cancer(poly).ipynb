{
 "cells": [
  {
   "cell_type": "markdown",
   "metadata": {},
   "source": [
    "# Breast_cancer"
   ]
  },
  {
   "cell_type": "code",
   "execution_count": 1,
   "metadata": {},
   "outputs": [],
   "source": [
    "from sklearn.datasets import load_breast_cancer\n",
    "from sklearn.linear_model import LogisticRegression\n",
    "from sklearn.metrics import accuracy_score, confusion_matrix\n",
    "from sklearn.preprocessing import PolynomialFeatures\n",
    "from sklearn.model_selection import train_test_split\n",
    "\n",
    "\n",
    "data = load_breast_cancer()\n",
    "X = data.data\n",
    "y = data.target"
   ]
  },
  {
   "cell_type": "code",
   "execution_count": 2,
   "metadata": {},
   "outputs": [
    {
     "name": "stdout",
     "output_type": "stream",
     "text": [
      "X = \n",
      " [[1.799e+01 1.038e+01 1.228e+02 ... 2.654e-01 4.601e-01 1.189e-01]\n",
      " [2.057e+01 1.777e+01 1.329e+02 ... 1.860e-01 2.750e-01 8.902e-02]\n",
      " [1.969e+01 2.125e+01 1.300e+02 ... 2.430e-01 3.613e-01 8.758e-02]\n",
      " ...\n",
      " [1.660e+01 2.808e+01 1.083e+02 ... 1.418e-01 2.218e-01 7.820e-02]\n",
      " [2.060e+01 2.933e+01 1.401e+02 ... 2.650e-01 4.087e-01 1.240e-01]\n",
      " [7.760e+00 2.454e+01 4.792e+01 ... 0.000e+00 2.871e-01 7.039e-02]]\n",
      "########################\n",
      "y = \n",
      "  [0 0 0 0 0 0 0 0 0 0 0 0 0 0 0 0 0 0 0 1 1 1 0 0 0 0 0 0 0 0 0 0 0 0 0 0 0\n",
      " 1 0 0 0 0 0 0 0 0 1 0 1 1 1 1 1 0 0 1 0 0 1 1 1 1 0 1 0 0 1 1 1 1 0 1 0 0\n",
      " 1 0 1 0 0 1 1 1 0 0 1 0 0 0 1 1 1 0 1 1 0 0 1 1 1 0 0 1 1 1 1 0 1 1 0 1 1\n",
      " 1 1 1 1 1 1 0 0 0 1 0 0 1 1 1 0 0 1 0 1 0 0 1 0 0 1 1 0 1 1 0 1 1 1 1 0 1\n",
      " 1 1 1 1 1 1 1 1 0 1 1 1 1 0 0 1 0 1 1 0 0 1 1 0 0 1 1 1 1 0 1 1 0 0 0 1 0\n",
      " 1 0 1 1 1 0 1 1 0 0 1 0 0 0 0 1 0 0 0 1 0 1 0 1 1 0 1 0 0 0 0 1 1 0 0 1 1\n",
      " 1 0 1 1 1 1 1 0 0 1 1 0 1 1 0 0 1 0 1 1 1 1 0 1 1 1 1 1 0 1 0 0 0 0 0 0 0\n",
      " 0 0 0 0 0 0 0 1 1 1 1 1 1 0 1 0 1 1 0 1 1 0 1 0 0 1 1 1 1 1 1 1 1 1 1 1 1\n",
      " 1 0 1 1 0 1 0 1 1 1 1 1 1 1 1 1 1 1 1 1 1 0 1 1 1 0 1 0 1 1 1 1 0 0 0 1 1\n",
      " 1 1 0 1 0 1 0 1 1 1 0 1 1 1 1 1 1 1 0 0 0 1 1 1 1 1 1 1 1 1 1 1 0 0 1 0 0\n",
      " 0 1 0 0 1 1 1 1 1 0 1 1 1 1 1 0 1 1 1 0 1 1 0 0 1 1 1 1 1 1 0 1 1 1 1 1 1\n",
      " 1 0 1 1 1 1 1 0 1 1 0 1 1 1 1 1 1 1 1 1 1 1 1 0 1 0 0 1 0 1 1 1 1 1 0 1 1\n",
      " 0 1 0 1 1 0 1 0 1 1 1 1 1 1 1 1 0 0 1 1 1 1 1 1 0 1 1 1 1 1 1 1 1 1 1 0 1\n",
      " 1 1 1 1 1 1 0 1 0 1 1 0 1 1 1 1 1 0 0 1 0 1 0 1 1 1 1 1 0 1 1 0 1 0 1 0 0\n",
      " 1 1 1 0 1 1 1 1 1 1 1 1 1 1 1 0 1 0 0 1 1 1 1 1 1 1 1 1 1 1 1 1 1 1 1 1 1\n",
      " 1 1 1 1 1 1 1 0 0 0 0 0 0 1]\n",
      "########################\n",
      "X shape = \n",
      " (569, 30)\n",
      "########################\n",
      "y shape = \n",
      " (569,)\n"
     ]
    }
   ],
   "source": [
    "print('X = \\n',X)\n",
    "print('########################')\n",
    "print('y = \\n ',y)\n",
    "print('########################')\n",
    "print('X shape = \\n',X.shape)\n",
    "print('########################')\n",
    "print('y shape = \\n',y.shape)"
   ]
  },
  {
   "cell_type": "code",
   "execution_count": 5,
   "metadata": {},
   "outputs": [
    {
     "name": "stdout",
     "output_type": "stream",
     "text": [
      "X_train = \n",
      " [[2.0920000e+01 2.5090000e+01 1.4300000e+02 ... 8.5790410e-02\n",
      "  2.8918017e-02 9.7476129e-03]\n",
      " [1.1710000e+01 1.6670000e+01 7.4720000e+01 ... 2.9309440e-02\n",
      "  1.2571216e-02 5.3919649e-03]\n",
      " [1.1290000e+01 1.3040000e+01 7.2230000e+01 ... 7.4692890e-02\n",
      "  2.1924126e-02 6.4352484e-03]\n",
      " ...\n",
      " [2.0570000e+01 1.7770000e+01 1.3290000e+02 ... 7.5625000e-02\n",
      "  2.4480500e-02 7.9245604e-03]\n",
      " [1.3200000e+01 1.7430000e+01 8.4130000e+01 ... 7.6562890e-02\n",
      "  1.9916866e-02 5.1811204e-03]\n",
      " [1.9000000e+01 1.8910000e+01 1.2340000e+02 ... 8.0712810e-02\n",
      "  1.8582981e-02 4.2784681e-03]]\n",
      "########################\n",
      "X_test = \n",
      " [[1.1260000e+01 1.9960000e+01 7.3720000e+01 ... 8.7320250e-02\n",
      "  2.0711595e-02 4.9126081e-03]\n",
      " [1.3380000e+01 3.0720000e+01 8.6340000e+01 ... 4.8224160e-02\n",
      "  1.6854300e-02 5.8905625e-03]\n",
      " [1.9400000e+01 2.3500000e+01 1.2910000e+02 ... 8.5264000e-02\n",
      "  2.2232880e-02 5.7972996e-03]\n",
      " ...\n",
      " [1.1150000e+01 1.3080000e+01 7.0870000e+01 ... 8.1738810e-02\n",
      "  1.9361148e-02 4.5859984e-03]\n",
      " [1.6270000e+01 2.0710000e+01 1.0690000e+02 ... 9.6286090e-02\n",
      "  2.5444600e-02 6.7240000e-03]\n",
      " [1.0480000e+01 1.9860000e+01 6.6720000e+01 ... 8.3116890e-02\n",
      "  2.2337484e-02 6.0031504e-03]]\n",
      "########################\n",
      "y_train = \n",
      " [0 1 1 1 1 1 1 0 1 0 1 0 1 1 1 0 1 1 0 0 1 1 0 1 1 1 1 0 0 1 1 1 1 1 0 1 1\n",
      " 0 0 0 1 0 0 0 1 1 0 1 1 0 1 1 0 1 1 1 1 1 1 1 0 1 1 1 1 0 1 1 1 1 0 1 1 1\n",
      " 1 1 0 1 1 1 0 1 1 1 1 0 1 1 1 1 1 0 1 1 1 1 1 1 1 0 1 0 1 1 1 0 1 1 0 0 1\n",
      " 1 0 1 1 1 1 0 1 0 0 1 1 0 0 1 1 1 1 1 1 0 0 0 1 1 0 1 1 0 1 0 0 1 1 0 1 0\n",
      " 1 1 1 1 1 0 1 1 1 0 1 1 1 0 1 1 1 1 1 1 1 0 1 0 1 1 0 0 1 0 1 0 1 1 0 0 1\n",
      " 0 0 1 1 0 1 0 1 0 1 0 1 0 1 0 1 0 0 1 1 0 0 1 0 1 1 0 1 1 1 0 1 0 1 0 1 1\n",
      " 1 1 1 1 1 1 0 0 0 0 0 1 0 1 0 1 0 1 0 1 1 1 1 1 0 0 1 0 1 1 0 1 1 1 1 1 1\n",
      " 1 1 1 1 0 0 0 0 1 0 0 0 1 1 0 0 1 1 1 0 1 1 1 1 1 0 1 1 1 1 0 1 0 0 1 1 1\n",
      " 1 1 1 1 1 1 0 0 0 1 1 0 1 1 0 1 1 0 1 0 1 1 0 0 0 0 1 1 1 1 0 0 1 0 1 1 1\n",
      " 1 1 0 1 1 1 0 1 1 0 1 0 0 0 1 0 0 1 1 1 1 1 1 1 0 1 0 1 1 1 0 1 0 1 1 1 1\n",
      " 1 1 0 0 0 1 1 1 0 1 0 0 1 0 1 1 1 1 0 1 1 0 1 0 1 1 0 0 0 0 0 0 0 0 1 1 1\n",
      " 0 0 1 0 0 0 1 0 1 1 1 1 1 1 1 0 0 0 0 0 0 0 0 0 1 0 0 1 0 1 0 1 1 1 1 1 1\n",
      " 0 1 1 0 1 1 0 0 0 1 0]\n",
      "########################\n",
      "y_test = \n",
      " [1 1 0 0 1 0 1 1 1 1 1 1 0 1 1 1 1 0 1 1 1 1 1 0 1 0 1 1 1 1 1 1 1 0 1 0 1\n",
      " 0 0 0 0 0 1 1 1 1 1 1 1 1 1 0 1 1 1 1 0 0 0 1 0 1 1 1 0 0 0 1 1 1 0 1 0 0\n",
      " 1 1 0 0 0 1 0 1 1 1 0 0 0 0 0 1 1 1 1 1 1 1 1 0 0 1 1 1 1 0 0 1 1 0 1 0 1\n",
      " 1 0 1]\n"
     ]
    }
   ],
   "source": [
    "poly = PolynomialFeatures( degree = 2 , include_bias = False)\n",
    "poly.fit(X)\n",
    "X_poly = poly.transform(X)\n",
    "\n",
    "X_train, X_test, y_train, y_test = train_test_split(X_poly, y, test_size = 0.2)\n",
    "print('X_train = \\n',X_train)\n",
    "print('########################')\n",
    "print('X_test = \\n',X_test)\n",
    "print('########################')\n",
    "print('y_train = \\n',y_train)\n",
    "print('########################')\n",
    "print('y_test = \\n',y_test)"
   ]
  },
  {
   "cell_type": "code",
   "execution_count": 6,
   "metadata": {},
   "outputs": [
    {
     "name": "stdout",
     "output_type": "stream",
     "text": [
      "accuracy = 0.956140350877193\n"
     ]
    },
    {
     "name": "stderr",
     "output_type": "stream",
     "text": [
      "/srv/conda/lib/python3.6/site-packages/sklearn/linear_model/logistic.py:433: FutureWarning: Default solver will be changed to 'lbfgs' in 0.22. Specify a solver to silence this warning.\n",
      "  FutureWarning)\n"
     ]
    }
   ],
   "source": [
    "logreg = LogisticRegression()\n",
    "logreg.fit(X_train , y_train)\n",
    "result= logreg.predict(X_test)\n",
    "print('accuracy =',accuracy_score(y_test , result))"
   ]
  },
  {
   "cell_type": "code",
   "execution_count": 8,
   "metadata": {},
   "outputs": [
    {
     "name": "stdout",
     "output_type": "stream",
     "text": [
      "confusion matrix \n",
      " [[39  2]\n",
      " [ 3 70]]\n"
     ]
    }
   ],
   "source": [
    "conf = confusion_matrix(y_test , result)\n",
    "print('confusion matrix \\n',  conf)"
   ]
  },
  {
   "cell_type": "code",
   "execution_count": 9,
   "metadata": {},
   "outputs": [
    {
     "name": "stdout",
     "output_type": "stream",
     "text": [
      "fatures names \n",
      " ['x0', 'x1', 'x2', 'x3', 'x4', 'x5', 'x6', 'x7', 'x8', 'x9', 'x10', 'x11', 'x12', 'x13', 'x14', 'x15', 'x16', 'x17', 'x18', 'x19', 'x20', 'x21', 'x22', 'x23', 'x24', 'x25', 'x26', 'x27', 'x28', 'x29', 'x0^2', 'x0 x1', 'x0 x2', 'x0 x3', 'x0 x4', 'x0 x5', 'x0 x6', 'x0 x7', 'x0 x8', 'x0 x9', 'x0 x10', 'x0 x11', 'x0 x12', 'x0 x13', 'x0 x14', 'x0 x15', 'x0 x16', 'x0 x17', 'x0 x18', 'x0 x19', 'x0 x20', 'x0 x21', 'x0 x22', 'x0 x23', 'x0 x24', 'x0 x25', 'x0 x26', 'x0 x27', 'x0 x28', 'x0 x29', 'x1^2', 'x1 x2', 'x1 x3', 'x1 x4', 'x1 x5', 'x1 x6', 'x1 x7', 'x1 x8', 'x1 x9', 'x1 x10', 'x1 x11', 'x1 x12', 'x1 x13', 'x1 x14', 'x1 x15', 'x1 x16', 'x1 x17', 'x1 x18', 'x1 x19', 'x1 x20', 'x1 x21', 'x1 x22', 'x1 x23', 'x1 x24', 'x1 x25', 'x1 x26', 'x1 x27', 'x1 x28', 'x1 x29', 'x2^2', 'x2 x3', 'x2 x4', 'x2 x5', 'x2 x6', 'x2 x7', 'x2 x8', 'x2 x9', 'x2 x10', 'x2 x11', 'x2 x12', 'x2 x13', 'x2 x14', 'x2 x15', 'x2 x16', 'x2 x17', 'x2 x18', 'x2 x19', 'x2 x20', 'x2 x21', 'x2 x22', 'x2 x23', 'x2 x24', 'x2 x25', 'x2 x26', 'x2 x27', 'x2 x28', 'x2 x29', 'x3^2', 'x3 x4', 'x3 x5', 'x3 x6', 'x3 x7', 'x3 x8', 'x3 x9', 'x3 x10', 'x3 x11', 'x3 x12', 'x3 x13', 'x3 x14', 'x3 x15', 'x3 x16', 'x3 x17', 'x3 x18', 'x3 x19', 'x3 x20', 'x3 x21', 'x3 x22', 'x3 x23', 'x3 x24', 'x3 x25', 'x3 x26', 'x3 x27', 'x3 x28', 'x3 x29', 'x4^2', 'x4 x5', 'x4 x6', 'x4 x7', 'x4 x8', 'x4 x9', 'x4 x10', 'x4 x11', 'x4 x12', 'x4 x13', 'x4 x14', 'x4 x15', 'x4 x16', 'x4 x17', 'x4 x18', 'x4 x19', 'x4 x20', 'x4 x21', 'x4 x22', 'x4 x23', 'x4 x24', 'x4 x25', 'x4 x26', 'x4 x27', 'x4 x28', 'x4 x29', 'x5^2', 'x5 x6', 'x5 x7', 'x5 x8', 'x5 x9', 'x5 x10', 'x5 x11', 'x5 x12', 'x5 x13', 'x5 x14', 'x5 x15', 'x5 x16', 'x5 x17', 'x5 x18', 'x5 x19', 'x5 x20', 'x5 x21', 'x5 x22', 'x5 x23', 'x5 x24', 'x5 x25', 'x5 x26', 'x5 x27', 'x5 x28', 'x5 x29', 'x6^2', 'x6 x7', 'x6 x8', 'x6 x9', 'x6 x10', 'x6 x11', 'x6 x12', 'x6 x13', 'x6 x14', 'x6 x15', 'x6 x16', 'x6 x17', 'x6 x18', 'x6 x19', 'x6 x20', 'x6 x21', 'x6 x22', 'x6 x23', 'x6 x24', 'x6 x25', 'x6 x26', 'x6 x27', 'x6 x28', 'x6 x29', 'x7^2', 'x7 x8', 'x7 x9', 'x7 x10', 'x7 x11', 'x7 x12', 'x7 x13', 'x7 x14', 'x7 x15', 'x7 x16', 'x7 x17', 'x7 x18', 'x7 x19', 'x7 x20', 'x7 x21', 'x7 x22', 'x7 x23', 'x7 x24', 'x7 x25', 'x7 x26', 'x7 x27', 'x7 x28', 'x7 x29', 'x8^2', 'x8 x9', 'x8 x10', 'x8 x11', 'x8 x12', 'x8 x13', 'x8 x14', 'x8 x15', 'x8 x16', 'x8 x17', 'x8 x18', 'x8 x19', 'x8 x20', 'x8 x21', 'x8 x22', 'x8 x23', 'x8 x24', 'x8 x25', 'x8 x26', 'x8 x27', 'x8 x28', 'x8 x29', 'x9^2', 'x9 x10', 'x9 x11', 'x9 x12', 'x9 x13', 'x9 x14', 'x9 x15', 'x9 x16', 'x9 x17', 'x9 x18', 'x9 x19', 'x9 x20', 'x9 x21', 'x9 x22', 'x9 x23', 'x9 x24', 'x9 x25', 'x9 x26', 'x9 x27', 'x9 x28', 'x9 x29', 'x10^2', 'x10 x11', 'x10 x12', 'x10 x13', 'x10 x14', 'x10 x15', 'x10 x16', 'x10 x17', 'x10 x18', 'x10 x19', 'x10 x20', 'x10 x21', 'x10 x22', 'x10 x23', 'x10 x24', 'x10 x25', 'x10 x26', 'x10 x27', 'x10 x28', 'x10 x29', 'x11^2', 'x11 x12', 'x11 x13', 'x11 x14', 'x11 x15', 'x11 x16', 'x11 x17', 'x11 x18', 'x11 x19', 'x11 x20', 'x11 x21', 'x11 x22', 'x11 x23', 'x11 x24', 'x11 x25', 'x11 x26', 'x11 x27', 'x11 x28', 'x11 x29', 'x12^2', 'x12 x13', 'x12 x14', 'x12 x15', 'x12 x16', 'x12 x17', 'x12 x18', 'x12 x19', 'x12 x20', 'x12 x21', 'x12 x22', 'x12 x23', 'x12 x24', 'x12 x25', 'x12 x26', 'x12 x27', 'x12 x28', 'x12 x29', 'x13^2', 'x13 x14', 'x13 x15', 'x13 x16', 'x13 x17', 'x13 x18', 'x13 x19', 'x13 x20', 'x13 x21', 'x13 x22', 'x13 x23', 'x13 x24', 'x13 x25', 'x13 x26', 'x13 x27', 'x13 x28', 'x13 x29', 'x14^2', 'x14 x15', 'x14 x16', 'x14 x17', 'x14 x18', 'x14 x19', 'x14 x20', 'x14 x21', 'x14 x22', 'x14 x23', 'x14 x24', 'x14 x25', 'x14 x26', 'x14 x27', 'x14 x28', 'x14 x29', 'x15^2', 'x15 x16', 'x15 x17', 'x15 x18', 'x15 x19', 'x15 x20', 'x15 x21', 'x15 x22', 'x15 x23', 'x15 x24', 'x15 x25', 'x15 x26', 'x15 x27', 'x15 x28', 'x15 x29', 'x16^2', 'x16 x17', 'x16 x18', 'x16 x19', 'x16 x20', 'x16 x21', 'x16 x22', 'x16 x23', 'x16 x24', 'x16 x25', 'x16 x26', 'x16 x27', 'x16 x28', 'x16 x29', 'x17^2', 'x17 x18', 'x17 x19', 'x17 x20', 'x17 x21', 'x17 x22', 'x17 x23', 'x17 x24', 'x17 x25', 'x17 x26', 'x17 x27', 'x17 x28', 'x17 x29', 'x18^2', 'x18 x19', 'x18 x20', 'x18 x21', 'x18 x22', 'x18 x23', 'x18 x24', 'x18 x25', 'x18 x26', 'x18 x27', 'x18 x28', 'x18 x29', 'x19^2', 'x19 x20', 'x19 x21', 'x19 x22', 'x19 x23', 'x19 x24', 'x19 x25', 'x19 x26', 'x19 x27', 'x19 x28', 'x19 x29', 'x20^2', 'x20 x21', 'x20 x22', 'x20 x23', 'x20 x24', 'x20 x25', 'x20 x26', 'x20 x27', 'x20 x28', 'x20 x29', 'x21^2', 'x21 x22', 'x21 x23', 'x21 x24', 'x21 x25', 'x21 x26', 'x21 x27', 'x21 x28', 'x21 x29', 'x22^2', 'x22 x23', 'x22 x24', 'x22 x25', 'x22 x26', 'x22 x27', 'x22 x28', 'x22 x29', 'x23^2', 'x23 x24', 'x23 x25', 'x23 x26', 'x23 x27', 'x23 x28', 'x23 x29', 'x24^2', 'x24 x25', 'x24 x26', 'x24 x27', 'x24 x28', 'x24 x29', 'x25^2', 'x25 x26', 'x25 x27', 'x25 x28', 'x25 x29', 'x26^2', 'x26 x27', 'x26 x28', 'x26 x29', 'x27^2', 'x27 x28', 'x27 x29', 'x28^2', 'x28 x29', 'x29^2']\n"
     ]
    }
   ],
   "source": [
    "\n",
    "names = poly.get_feature_names()\n",
    "\n",
    "print('fatures names \\n' , names)"
   ]
  },
  {
   "cell_type": "markdown",
   "metadata": {},
   "source": [
    "# Another way with SelectPercentile"
   ]
  },
  {
   "cell_type": "code",
   "execution_count": 10,
   "metadata": {},
   "outputs": [],
   "source": [
    "from sklearn.feature_selection import SelectPercentile ,f_classif , chi2 "
   ]
  },
  {
   "cell_type": "code",
   "execution_count": 11,
   "metadata": {},
   "outputs": [
    {
     "name": "stdout",
     "output_type": "stream",
     "text": [
      "Selected features = \n",
      " [False False  True False False False False  True False False False False\n",
      " False False False False False False False False  True False  True  True\n",
      " False False False  True False False]\n",
      "accuarcy =  0.9473684210526315\n",
      "confusion matrix \n",
      " [[42  4]\n",
      " [ 2 66]]\n"
     ]
    },
    {
     "name": "stderr",
     "output_type": "stream",
     "text": [
      "/srv/conda/lib/python3.6/site-packages/sklearn/linear_model/logistic.py:433: FutureWarning: Default solver will be changed to 'lbfgs' in 0.22. Specify a solver to silence this warning.\n",
      "  FutureWarning)\n"
     ]
    }
   ],
   "source": [
    "sel = SelectPercentile(score_func = chi2 , percentile = 20)\n",
    "#sel = SelectPercentile(score_func = chi2 , percentile = 40)\n",
    "#sel = SelectPercentile(score_func = chi2 , percentile = 60)\n",
    "#sel = SelectPercentile(score_func = chi2, percentile = 80)\n",
    "\n",
    "sel = SelectPercentile(score_func = f_classif , percentile = 20)\n",
    "\n",
    "sel.fit(X,y)\n",
    "selected_features = sel.transform(X)\n",
    "sfeatures = sel.get_support()\n",
    "print('Selected features = \\n' , sfeatures)\n",
    "\n",
    "X_train, X_test, y_train, y_test = train_test_split(selected_features, y, test_size = 0.2)\n",
    "\n",
    "logreg = LogisticRegression()\n",
    "logreg.fit(X_train , y_train)\n",
    "result= logreg.predict(X_test)\n",
    "print('accuarcy = ',accuracy_score(y_test , result))\n",
    "\n",
    "conf = confusion_matrix(y_test , result)\n",
    "print('confusion matrix \\n',  conf)"
   ]
  },
  {
   "cell_type": "code",
   "execution_count": 12,
   "metadata": {},
   "outputs": [
    {
     "name": "stdout",
     "output_type": "stream",
     "text": [
      "Selected features = \n",
      " [False False  True False False False False  True False False False False\n",
      " False False False False False False False False  True False  True  True\n",
      " False False False  True False False]\n",
      "accuarcy =  0.9473684210526315\n",
      "confusion matrix \n",
      " [[49  4]\n",
      " [ 2 59]]\n"
     ]
    },
    {
     "name": "stderr",
     "output_type": "stream",
     "text": [
      "/srv/conda/lib/python3.6/site-packages/sklearn/linear_model/logistic.py:433: FutureWarning: Default solver will be changed to 'lbfgs' in 0.22. Specify a solver to silence this warning.\n",
      "  FutureWarning)\n"
     ]
    }
   ],
   "source": [
    "#sel = SelectPercentile(score_func = chi2 , percentile = 20)\n",
    "sel = SelectPercentile(score_func = chi2 , percentile = 40)\n",
    "#sel = SelectPercentile(score_func = chi2 , percentile = 60)\n",
    "#sel = SelectPercentile(score_func = chi2, percentile = 80)\n",
    "\n",
    "sel = SelectPercentile(score_func = f_classif , percentile = 20)\n",
    "\n",
    "sel.fit(X,y)\n",
    "selected_features = sel.transform(X)\n",
    "sfeatures = sel.get_support()\n",
    "print('Selected features = \\n' , sfeatures)\n",
    "\n",
    "X_train, X_test, y_train, y_test = train_test_split(selected_features, y, test_size = 0.2)\n",
    "\n",
    "logreg = LogisticRegression()\n",
    "logreg.fit(X_train , y_train)\n",
    "result= logreg.predict(X_test)\n",
    "print('accuarcy = ',accuracy_score(y_test , result))\n",
    "\n",
    "conf = confusion_matrix(y_test , result)\n",
    "print('confusion matrix \\n',  conf)"
   ]
  },
  {
   "cell_type": "code",
   "execution_count": 13,
   "metadata": {},
   "outputs": [
    {
     "name": "stdout",
     "output_type": "stream",
     "text": [
      "Selected features = \n",
      " [False False  True False False False False  True False False False False\n",
      " False False False False False False False False  True False  True  True\n",
      " False False False  True False False]\n",
      "accuarcy =  0.9035087719298246\n",
      "confusion matrix \n",
      " [[37  5]\n",
      " [ 6 66]]\n"
     ]
    },
    {
     "name": "stderr",
     "output_type": "stream",
     "text": [
      "/srv/conda/lib/python3.6/site-packages/sklearn/linear_model/logistic.py:433: FutureWarning: Default solver will be changed to 'lbfgs' in 0.22. Specify a solver to silence this warning.\n",
      "  FutureWarning)\n"
     ]
    }
   ],
   "source": [
    "#sel = SelectPercentile(score_func = chi2 , percentile = 20)\n",
    "#sel = SelectPercentile(score_func = chi2 , percentile = 40)\n",
    "sel = SelectPercentile(score_func = chi2 , percentile = 60)\n",
    "#sel = SelectPercentile(score_func = chi2, percentile = 80)\n",
    "\n",
    "sel = SelectPercentile(score_func = f_classif , percentile = 20)\n",
    "\n",
    "sel.fit(X,y)\n",
    "selected_features = sel.transform(X)\n",
    "sfeatures = sel.get_support()\n",
    "print('Selected features = \\n' , sfeatures)\n",
    "\n",
    "X_train, X_test, y_train, y_test = train_test_split(selected_features, y, test_size = 0.2)\n",
    "\n",
    "logreg = LogisticRegression()\n",
    "logreg.fit(X_train , y_train)\n",
    "result= logreg.predict(X_test)\n",
    "print('accuarcy = ',accuracy_score(y_test , result))\n",
    "\n",
    "conf = confusion_matrix(y_test , result)\n",
    "print('confusion matrix \\n',  conf)"
   ]
  },
  {
   "cell_type": "code",
   "execution_count": 14,
   "metadata": {},
   "outputs": [
    {
     "name": "stdout",
     "output_type": "stream",
     "text": [
      "Selected features = \n",
      " [False False  True False False False False  True False False False False\n",
      " False False False False False False False False  True False  True  True\n",
      " False False False  True False False]\n",
      "accuarcy =  0.956140350877193\n",
      "confusion matrix \n",
      " [[28  5]\n",
      " [ 0 81]]\n"
     ]
    },
    {
     "name": "stderr",
     "output_type": "stream",
     "text": [
      "/srv/conda/lib/python3.6/site-packages/sklearn/linear_model/logistic.py:433: FutureWarning: Default solver will be changed to 'lbfgs' in 0.22. Specify a solver to silence this warning.\n",
      "  FutureWarning)\n"
     ]
    }
   ],
   "source": [
    "#sel = SelectPercentile(score_func = chi2 , percentile = 20)\n",
    "#sel = SelectPercentile(score_func = chi2 , percentile = 40)\n",
    "#sel = SelectPercentile(score_func = chi2 , percentile = 60)\n",
    "sel = SelectPercentile(score_func = chi2, percentile = 80)\n",
    "\n",
    "sel = SelectPercentile(score_func = f_classif , percentile = 20)\n",
    "\n",
    "sel.fit(X,y)\n",
    "selected_features = sel.transform(X)\n",
    "sfeatures = sel.get_support()\n",
    "print('Selected features = \\n' , sfeatures)\n",
    "\n",
    "X_train, X_test, y_train, y_test = train_test_split(selected_features, y, test_size = 0.2)\n",
    "\n",
    "logreg = LogisticRegression()\n",
    "logreg.fit(X_train , y_train)\n",
    "result= logreg.predict(X_test)\n",
    "print('accuarcy = ',accuracy_score(y_test , result))\n",
    "\n",
    "conf = confusion_matrix(y_test , result)\n",
    "print('confusion matrix \\n',  conf)"
   ]
  },
  {
   "cell_type": "markdown",
   "metadata": {},
   "source": [
    "# Another way with  RandomForestClassifier"
   ]
  },
  {
   "cell_type": "code",
   "execution_count": 17,
   "metadata": {},
   "outputs": [],
   "source": [
    "from sklearn.ensemble import RandomForestClassifier\n",
    "from sklearn.feature_selection import SelectFromModel"
   ]
  },
  {
   "cell_type": "code",
   "execution_count": 18,
   "metadata": {},
   "outputs": [
    {
     "name": "stdout",
     "output_type": "stream",
     "text": [
      "Selected features = \n",
      " [False False  True  True False False False  True False False False False\n",
      " False  True False False False False False False  True False  True  True\n",
      " False False False  True False False]\n",
      "0.9035087719298246\n",
      "confusion matrix \n",
      " [[43 10]\n",
      " [ 1 60]]\n"
     ]
    },
    {
     "name": "stderr",
     "output_type": "stream",
     "text": [
      "/srv/conda/lib/python3.6/site-packages/sklearn/linear_model/logistic.py:433: FutureWarning: Default solver will be changed to 'lbfgs' in 0.22. Specify a solver to silence this warning.\n",
      "  FutureWarning)\n"
     ]
    }
   ],
   "source": [
    "sel = SelectFromModel(RandomForestClassifier(n_estimators = 20)) \n",
    "sel.fit(X,y)\n",
    "\n",
    "selected_features = sel.transform(X)\n",
    "\n",
    "sfeatures = sel.get_support()\n",
    "print('Selected features = \\n' , sfeatures)\n",
    "\n",
    "x_train, x_test, y_train, y_test = train_test_split(selected_features, y, test_size = 0.2)\n",
    "\n",
    "logreg = LogisticRegression()\n",
    "logreg.fit(x_train , y_train)\n",
    "result= logreg.predict(x_test)\n",
    "print(accuracy_score(y_test , result))\n",
    "\n",
    "\n",
    "conf = confusion_matrix(y_test , result)\n",
    "print('confusion matrix \\n',  conf)"
   ]
  },
  {
   "cell_type": "code",
   "execution_count": null,
   "metadata": {},
   "outputs": [],
   "source": []
  }
 ],
 "metadata": {
  "kernelspec": {
   "display_name": "Python 3",
   "language": "python",
   "name": "python3"
  },
  "language_info": {
   "codemirror_mode": {
    "name": "ipython",
    "version": 3
   },
   "file_extension": ".py",
   "mimetype": "text/x-python",
   "name": "python",
   "nbconvert_exporter": "python",
   "pygments_lexer": "ipython3",
   "version": "3.6.7"
  }
 },
 "nbformat": 4,
 "nbformat_minor": 2
}
