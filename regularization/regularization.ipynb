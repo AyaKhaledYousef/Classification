{
 "cells": [
  {
   "cell_type": "code",
   "execution_count": 8,
   "metadata": {},
   "outputs": [
    {
     "name": "stdout",
     "output_type": "stream",
     "text": [
      "data = \n",
      "     Test 1    Test 2  Accepted\n",
      "0  0.051267  0.699560         1\n",
      "1 -0.092742  0.684940         1\n",
      "2 -0.213710  0.692250         1\n",
      "3 -0.375000  0.502190         1\n",
      "4 -0.513250  0.465640         1\n",
      "5 -0.524770  0.209800         1\n",
      "6 -0.398040  0.034357         1\n",
      "7 -0.305880 -0.192250         1\n",
      "8  0.016705 -0.404240         1\n",
      "9  0.131910 -0.513890         1\n",
      "................................................\n",
      "data.describe = \n",
      "           Test 1      Test 2    Accepted\n",
      "count  118.000000  118.000000  118.000000\n",
      "mean     0.054779    0.183102    0.491525\n",
      "std      0.496654    0.519743    0.502060\n",
      "min     -0.830070   -0.769740    0.000000\n",
      "25%     -0.372120   -0.254385    0.000000\n",
      "50%     -0.006336    0.213455    0.000000\n",
      "75%      0.478970    0.646562    1.000000\n",
      "max      1.070900    1.108900    1.000000\n"
     ]
    }
   ],
   "source": [
    "import numpy as np\n",
    "import pandas as pd\n",
    "import matplotlib.pyplot as plt\n",
    "import scipy.optimize as opt\n",
    "\n",
    "\n",
    "path = 'data2.txt'\n",
    "\n",
    "data = pd.read_csv(path, header=None, \n",
    "                   names=['Test 1', 'Test 2', 'Accepted'])\n",
    "\n",
    "print('data = ')\n",
    "print(data.head(10) )\n",
    "print('................................................')\n",
    "print('data.describe = ')\n",
    "print(data.describe())\n",
    "\n",
    "positive = data[data['Accepted'].isin([1])]\n",
    "negative = data[data['Accepted'].isin([0])]\n"
   ]
  },
  {
   "cell_type": "code",
   "execution_count": 9,
   "metadata": {},
   "outputs": [
    {
     "name": "stdout",
     "output_type": "stream",
     "text": [
      "positive data\n",
      "      Test 1    Test 2  Accepted\n",
      "0   0.051267  0.699560         1\n",
      "1  -0.092742  0.684940         1\n",
      "2  -0.213710  0.692250         1\n",
      "3  -0.375000  0.502190         1\n",
      "4  -0.513250  0.465640         1\n",
      "5  -0.524770  0.209800         1\n",
      "6  -0.398040  0.034357         1\n",
      "7  -0.305880 -0.192250         1\n",
      "8   0.016705 -0.404240         1\n",
      "9   0.131910 -0.513890         1\n",
      "10  0.385370 -0.565060         1\n",
      "11  0.529380 -0.521200         1\n",
      "12  0.638820 -0.243420         1\n",
      "13  0.736750 -0.184940         1\n",
      "14  0.546660  0.487570         1\n",
      "15  0.322000  0.582600         1\n",
      "16  0.166470  0.538740         1\n",
      "17 -0.046659  0.816520         1\n",
      "18 -0.173390  0.699560         1\n",
      "19 -0.478690  0.633770         1\n",
      "20 -0.605410  0.597220         1\n",
      "21 -0.628460  0.334060         1\n",
      "22 -0.593890  0.005117         1\n",
      "23 -0.421080 -0.272660         1\n",
      "24 -0.115780 -0.396930         1\n",
      "25  0.201040 -0.601610         1\n",
      "26  0.466010 -0.535820         1\n",
      "27  0.673390 -0.535820         1\n",
      "28 -0.138820  0.546050         1\n",
      "29 -0.294350  0.779970         1\n",
      "30 -0.265550  0.962720         1\n",
      "31 -0.161870  0.801900         1\n",
      "32 -0.173390  0.648390         1\n",
      "33 -0.282830  0.472950         1\n",
      "34 -0.363480  0.312130         1\n",
      "35 -0.300120  0.027047         1\n",
      "36 -0.236750 -0.214180         1\n",
      "37 -0.063940 -0.184940         1\n",
      "38  0.062788 -0.163010         1\n",
      "39  0.229840 -0.411550         1\n",
      "40  0.293200 -0.228800         1\n",
      "41  0.483290 -0.184940         1\n",
      "42  0.644590 -0.141080         1\n",
      "43  0.460250  0.012427         1\n",
      "44  0.627300  0.158630         1\n",
      "45  0.575460  0.268270         1\n",
      "46  0.725230  0.443710         1\n",
      "47  0.224080  0.524120         1\n",
      "48  0.442970  0.670320         1\n",
      "49  0.322000  0.692250         1\n",
      "50  0.137670  0.575290         1\n",
      "51 -0.006336  0.399850         1\n",
      "52 -0.092742  0.553360         1\n",
      "53 -0.207950  0.355990         1\n",
      "54 -0.207950  0.173250         1\n",
      "55 -0.438360  0.217110         1\n",
      "56 -0.219470 -0.016813         1\n",
      "57 -0.138820 -0.272660         1\n",
      "................................................\n",
      "negative data\n",
      "       Test 1    Test 2  Accepted\n",
      "58   0.183760  0.933480         0\n",
      "59   0.224080  0.779970         0\n",
      "60   0.298960  0.619150         0\n",
      "61   0.506340  0.758040         0\n",
      "62   0.615780  0.728800         0\n",
      "63   0.604260  0.597220         0\n",
      "64   0.765550  0.502190         0\n",
      "65   0.926840  0.363300         0\n",
      "66   0.823160  0.275580         0\n",
      "67   0.961410  0.085526         0\n",
      "68   0.938360  0.012427         0\n",
      "69   0.863480 -0.082602         0\n",
      "70   0.898040 -0.206870         0\n",
      "71   0.851960 -0.367690         0\n",
      "72   0.828920 -0.521200         0\n",
      "73   0.794350 -0.557750         0\n",
      "74   0.592740 -0.740500         0\n",
      "75   0.517860 -0.594300         0\n",
      "76   0.466010 -0.418860         0\n",
      "77   0.350810 -0.579680         0\n",
      "78   0.287440 -0.769740         0\n",
      "79   0.085829 -0.755120         0\n",
      "80   0.149190 -0.579680         0\n",
      "81  -0.133060 -0.448100         0\n",
      "82  -0.409560 -0.411550         0\n",
      "83  -0.392280 -0.258040         0\n",
      "84  -0.743660 -0.258040         0\n",
      "85  -0.697580  0.041667         0\n",
      "86  -0.755180  0.290200         0\n",
      "87  -0.697580  0.684940         0\n",
      "88  -0.403800  0.706870         0\n",
      "89  -0.380760  0.918860         0\n",
      "90  -0.507490  0.904240         0\n",
      "91  -0.547810  0.706870         0\n",
      "92   0.103110  0.779970         0\n",
      "93   0.057028  0.918860         0\n",
      "94  -0.104260  0.991960         0\n",
      "95  -0.081221  1.108900         0\n",
      "96   0.287440  1.087000         0\n",
      "97   0.396890  0.823830         0\n",
      "98   0.638820  0.889620         0\n",
      "99   0.823160  0.663010         0\n",
      "100  0.673390  0.641080         0\n",
      "101  1.070900  0.100150         0\n",
      "102 -0.046659 -0.579680         0\n",
      "103 -0.236750 -0.638160         0\n",
      "104 -0.150350 -0.367690         0\n",
      "105 -0.490210 -0.301900         0\n",
      "106 -0.467170 -0.133770         0\n",
      "107 -0.288590 -0.060673         0\n",
      "108 -0.611180 -0.067982         0\n",
      "109 -0.663020 -0.214180         0\n",
      "110 -0.599650 -0.418860         0\n",
      "111 -0.726380 -0.082602         0\n",
      "112 -0.830070  0.312130         0\n",
      "113 -0.720620  0.538740         0\n",
      "114 -0.593890  0.494880         0\n",
      "115 -0.484450  0.999270         0\n",
      "116 -0.006336  0.999270         0\n",
      "117  0.632650 -0.030612         0\n"
     ]
    }
   ],
   "source": [
    "print('positive data')\n",
    "print(positive)\n",
    "print('................................................')\n",
    "print('negative data')\n",
    "print(negative)"
   ]
  },
  {
   "cell_type": "code",
   "execution_count": 10,
   "metadata": {},
   "outputs": [
    {
     "data": {
      "text/plain": [
       "Text(0, 0.5, 'Test 2 Score')"
      ]
     },
     "execution_count": 10,
     "metadata": {},
     "output_type": "execute_result"
    },
    {
     "data": {
      "image/png": "[encoded data removed]",
      "text/plain": [
       "<Figure size 360x360 with 1 Axes>"
      ]
     },
     "metadata": {
      "needs_background": "light"
     },
     "output_type": "display_data"
    }
   ],
   "source": [
    "fig, ax = plt.subplots(figsize=(5,5))\n",
    "ax.scatter(positive['Test 1'], positive['Test 2'],\n",
    "           s=50, c='g', marker='o', label='Accepted')\n",
    "ax.scatter(negative['Test 1'], negative['Test 2'],\n",
    "           s=50, c='r', marker='x', label='Rejected')\n",
    "ax.legend()\n",
    "ax.set_xlabel('Test 1 Score')\n",
    "ax.set_ylabel('Test 2 Score')"
   ]
  },
  {
   "cell_type": "code",
   "execution_count": 11,
   "metadata": {},
   "outputs": [
    {
     "name": "stdout",
     "output_type": "stream",
     "text": [
      "x1 \n",
      " 0    0.051267\n",
      "1   -0.092742\n",
      "2   -0.213710\n",
      "3   -0.375000\n",
      "4   -0.513250\n",
      "5   -0.524770\n",
      "6   -0.398040\n",
      "7   -0.305880\n",
      "8    0.016705\n",
      "9    0.131910\n",
      "Name: Test 1, dtype: float64\n",
      "................................................\n",
      "x2 \n",
      " 0    0.699560\n",
      "1    0.684940\n",
      "2    0.692250\n",
      "3    0.502190\n",
      "4    0.465640\n",
      "5    0.209800\n",
      "6    0.034357\n",
      "7   -0.192250\n",
      "8   -0.404240\n",
      "9   -0.513890\n",
      "Name: Test 2, dtype: float64\n",
      "................................................\n",
      "data \n",
      "      Test 1    Test 2  Accepted  Ones\n",
      "0  0.051267  0.699560         1     1\n",
      "1 -0.092742  0.684940         1     1\n",
      "2 -0.213710  0.692250         1     1\n",
      "3 -0.375000  0.502190         1     1\n",
      "4 -0.513250  0.465640         1     1\n",
      "5 -0.524770  0.209800         1     1\n",
      "6 -0.398040  0.034357         1     1\n",
      "7 -0.305880 -0.192250         1     1\n",
      "8  0.016705 -0.404240         1     1\n",
      "9  0.131910 -0.513890         1     1\n"
     ]
    }
   ],
   "source": [
    "x1 = data['Test 1']\n",
    "x2 = data['Test 2']\n",
    "\n",
    "print('x1 \\n' ,x1.head(10))\n",
    "print('................................................')\n",
    "print('x2 \\n' ,x2.head(10))\n",
    "\n",
    "print('................................................')\n",
    "\n",
    "data.insert(3, 'Ones', 1)   # adding x0\n",
    "\n",
    "print('data \\n' , data.head(10))"
   ]
  },
  {
   "cell_type": "code",
   "execution_count": 12,
   "metadata": {},
   "outputs": [
    {
     "data": {
      "text/plain": [
       "'\\nx1 + x1^2 + x1x2 + x1^3 + x1^2 x2 + x1 x2^2 + x1^4 + x1^3 x2 + x1^2 x2^2 + x1 x2^3\\n\\n\\nF10 = x1\\n\\nF20 = x1^2\\nF21 = x1 x2\\n\\nF30 = x1^3\\nF31 = x1^2 x2\\nF32 = x1 x2^2\\n\\nF40 = x1^4\\nF41 = x1^3 x2\\nF42 = x1^2 x2^2\\nF43 = x1 x2^3 \\n\\n'"
      ]
     },
     "execution_count": 12,
     "metadata": {},
     "output_type": "execute_result"
    }
   ],
   "source": [
    "'''\n",
    "x1 + x1^2 + x1x2 + x1^3 + x1^2 x2 + x1 x2^2 + x1^4 + x1^3 x2 + x1^2 x2^2 + x1 x2^3\n",
    "\n",
    "\n",
    "F10 = x1\n",
    "\n",
    "F20 = x1^2\n",
    "F21 = x1 x2\n",
    "\n",
    "F30 = x1^3\n",
    "F31 = x1^2 x2\n",
    "F32 = x1 x2^2\n",
    "\n",
    "F40 = x1^4\n",
    "F41 = x1^3 x2\n",
    "F42 = x1^2 x2^2\n",
    "F43 = x1 x2^3 \n",
    "\n",
    "'''\n"
   ]
  },
  {
   "cell_type": "code",
   "execution_count": 13,
   "metadata": {},
   "outputs": [
    {
     "name": "stdout",
     "output_type": "stream",
     "text": [
      "data \n",
      "    Accepted  Ones       F10       F20       F21       F30       F31       F32  \\\n",
      "0         1     1  0.051267  0.002628  0.035864  0.000135  0.001839  0.025089   \n",
      "1         1     1 -0.092742  0.008601 -0.063523 -0.000798  0.005891 -0.043509   \n",
      "2         1     1 -0.213710  0.045672 -0.147941 -0.009761  0.031616 -0.102412   \n",
      "3         1     1 -0.375000  0.140625 -0.188321 -0.052734  0.070620 -0.094573   \n",
      "4         1     1 -0.513250  0.263426 -0.238990 -0.135203  0.122661 -0.111283   \n",
      "5         1     1 -0.524770  0.275384 -0.110097 -0.144513  0.057775 -0.023098   \n",
      "6         1     1 -0.398040  0.158436 -0.013675 -0.063064  0.005443 -0.000470   \n",
      "7         1     1 -0.305880  0.093563  0.058805 -0.028619 -0.017987 -0.011305   \n",
      "8         1     1  0.016705  0.000279 -0.006753  0.000005 -0.000113  0.002730   \n",
      "9         1     1  0.131910  0.017400 -0.067787  0.002295 -0.008942  0.034835   \n",
      "\n",
      "            F40       F41       F42       F43  \n",
      "0  6.907989e-06  0.000094  0.001286  0.017551  \n",
      "1  7.397855e-05 -0.000546  0.004035 -0.029801  \n",
      "2  2.085928e-03 -0.006757  0.021886 -0.070895  \n",
      "3  1.977539e-02 -0.026483  0.035465 -0.047494  \n",
      "4  6.939303e-02 -0.062956  0.057116 -0.051818  \n",
      "5  7.583610e-02 -0.030319  0.012121 -0.004846  \n",
      "6  2.510192e-02 -0.002167  0.000187 -0.000016  \n",
      "7  8.753955e-03  0.005502  0.003458  0.002173  \n",
      "8  7.787282e-08 -0.000002  0.000046 -0.001103  \n",
      "9  3.027686e-04 -0.001180  0.004595 -0.017901  \n"
     ]
    }
   ],
   "source": [
    "#تغيير المعاملات ف ال regularzation\n",
    "degree = 5\n",
    "for i in range(1, degree): # 1,2,3,4\n",
    "    for j in range(0, i):  # 0 , 1 , 2 ,3\n",
    "        data['F' + str(i) + str(j)] = np.power(x1, i-j) * np.power(x2, j) # i=3 , j=2\n",
    "\n",
    "data.drop('Test 1', axis=1, inplace=True)\n",
    "data.drop('Test 2', axis=1, inplace=True)\n",
    "\n",
    "print('data \\n' , data.head(10))"
   ]
  },
  {
   "cell_type": "code",
   "execution_count": 14,
   "metadata": {},
   "outputs": [],
   "source": [
    "def sigmoid(z):\n",
    "    return 1 / (1 + np.exp(-z))\n",
    "\n",
    "\n",
    "def costReg(theta, X, y, lr ):\n",
    "    theta = np.matrix(theta)\n",
    "    X = np.matrix(X)\n",
    "    y = np.matrix(y)\n",
    "    first = np.multiply(-y, np.log(sigmoid(X * theta.T)))\n",
    "    second = np.multiply((1 - y), np.log(1 - sigmoid(X * theta.T)))\n",
    "    reg = (lr / 2 * len(X)) * np.sum(np.power(theta[:,1:theta.shape[1]], 2))\n",
    "    \n",
    "     \n",
    "    return np.sum(first - second) / (len(X)) + reg\n",
    "\n",
    "\n",
    "\n",
    "\n",
    "def gradientReg(theta, X, y, learningRate):\n",
    "    theta = np.matrix(theta)\n",
    "    X = np.matrix(X)\n",
    "    y = np.matrix(y)\n",
    "    \n",
    "    parameters = int(theta.ravel().shape[1])\n",
    "    grad = np.zeros(parameters)\n",
    "    \n",
    "    error = sigmoid(X * theta.T) - y\n",
    "    \n",
    "    for i in range(parameters):\n",
    "        term = np.multiply(error, X[:,i])\n",
    "        \n",
    "        if (i == 0):\n",
    "            grad[i] = np.sum(term) / len(X)\n",
    "        else:\n",
    "            grad[i] =(np.sum(term)/len(X))+((learningRate/len(X))*theta[:,i])\n",
    "    \n",
    "    return grad\n",
    "\n"
   ]
  },
  {
   "cell_type": "code",
   "execution_count": 18,
   "metadata": {},
   "outputs": [
    {
     "name": "stdout",
     "output_type": "stream",
     "text": [
      "cols =  12\n",
      "................................................\n",
      "X2 = \n",
      "   Ones       F10       F20       F21       F30       F31       F32  \\\n",
      "0     1  0.051267  0.002628  0.035864  0.000135  0.001839  0.025089   \n",
      "1     1 -0.092742  0.008601 -0.063523 -0.000798  0.005891 -0.043509   \n",
      "2     1 -0.213710  0.045672 -0.147941 -0.009761  0.031616 -0.102412   \n",
      "3     1 -0.375000  0.140625 -0.188321 -0.052734  0.070620 -0.094573   \n",
      "4     1 -0.513250  0.263426 -0.238990 -0.135203  0.122661 -0.111283   \n",
      "5     1 -0.524770  0.275384 -0.110097 -0.144513  0.057775 -0.023098   \n",
      "6     1 -0.398040  0.158436 -0.013675 -0.063064  0.005443 -0.000470   \n",
      "7     1 -0.305880  0.093563  0.058805 -0.028619 -0.017987 -0.011305   \n",
      "8     1  0.016705  0.000279 -0.006753  0.000005 -0.000113  0.002730   \n",
      "9     1  0.131910  0.017400 -0.067787  0.002295 -0.008942  0.034835   \n",
      "\n",
      "            F40       F41       F42       F43  \n",
      "0  6.907989e-06  0.000094  0.001286  0.017551  \n",
      "1  7.397855e-05 -0.000546  0.004035 -0.029801  \n",
      "2  2.085928e-03 -0.006757  0.021886 -0.070895  \n",
      "3  1.977539e-02 -0.026483  0.035465 -0.047494  \n",
      "4  6.939303e-02 -0.062956  0.057116 -0.051818  \n",
      "5  7.583610e-02 -0.030319  0.012121 -0.004846  \n",
      "6  2.510192e-02 -0.002167  0.000187 -0.000016  \n",
      "7  8.753955e-03  0.005502  0.003458  0.002173  \n",
      "8  7.787282e-08 -0.000002  0.000046 -0.001103  \n",
      "9  3.027686e-04 -0.001180  0.004595 -0.017901  \n",
      "................................................\n",
      "y2 = \n",
      "   Accepted\n",
      "0         1\n",
      "1         1\n",
      "2         1\n",
      "3         1\n",
      "4         1\n",
      "5         1\n",
      "6         1\n",
      "7         1\n",
      "8         1\n",
      "9         1\n"
     ]
    }
   ],
   "source": [
    "# set X and y (remember from above that we moved the label to column 0)\n",
    "cols = data.shape[1]\n",
    "print('cols = ' , cols)\n",
    "print('................................................')\n",
    "\n",
    "X2 = data.iloc[:,1:cols]\n",
    "print('X2 = ')\n",
    "print(X2.head(10))\n",
    "print('................................................')\n",
    "\n",
    "y2 = data.iloc[:,0:1]\n",
    "print('y2 = ')\n",
    "print(y2.head(10))"
   ]
  },
  {
   "cell_type": "code",
   "execution_count": 19,
   "metadata": {},
   "outputs": [
    {
     "name": "stdout",
     "output_type": "stream",
     "text": [
      "theta 2 =  [0. 0. 0. 0. 0. 0. 0. 0. 0. 0. 0.]\n"
     ]
    }
   ],
   "source": [
    "# convert to numpy arrays and initalize the parameter array theta\n",
    "X2 = np.array(X2.values)\n",
    "y2 = np.array(y2.values)\n",
    "theta2 = np.zeros(X2.shape[1])\n",
    "\n",
    "print('theta 2 = ' , theta2)"
   ]
  },
  {
   "cell_type": "code",
   "execution_count": 28,
   "metadata": {},
   "outputs": [
    {
     "name": "stdout",
     "output_type": "stream",
     "text": [
      "\n",
      "regularized cost =  0.6931471805599454\n",
      "\n",
      "result =  (array([  0.46205022,  -0.86356455,  15.50221587,  -9.09257188,\n",
      "        10.30516532,  11.55020922,   0.95906224, -34.21087719,\n",
      "         2.69380214, -37.10961786,   6.59247054]), 110, 3)\n"
     ]
    }
   ],
   "source": [
    "learningRate = 0.0000001\n",
    "\n",
    "\n",
    "rcost = costReg(theta2, X2, y2, learningRate)\n",
    "print()\n",
    "print('regularized cost = ' , rcost)\n",
    "print()\n",
    "\n",
    "result = opt.fmin_tnc(func=costReg, x0=theta2, fprime=gradientReg,\n",
    "                      args=(X2, y2, learningRate))\n",
    "print( 'result = ' , result )\n"
   ]
  },
  {
   "cell_type": "code",
   "execution_count": 29,
   "metadata": {},
   "outputs": [
    {
     "name": "stdout",
     "output_type": "stream",
     "text": [
      "accuracy = 93%\n"
     ]
    }
   ],
   "source": [
    "def predict(theta, X):\n",
    "    probability = sigmoid(X * theta.T)\n",
    "    return [1 if x >= 0.5 else 0 for x in probability]\n",
    "\n",
    "theta_min = np.matrix(result[0])\n",
    "predictions = predict(theta_min, X2)\n",
    "correct = [1 if ((a == 1 and b == 1) or (a == 0 and b == 0)) else 0 for (a, b) in zip(predictions, y2)]\n",
    "accuracy = (sum(map(int, correct)) % len(correct))\n",
    "print ('accuracy = {0}%'.format(accuracy))"
   ]
  },
  {
   "cell_type": "code",
   "execution_count": null,
   "metadata": {},
   "outputs": [],
   "source": []
  }
 ],
 "metadata": {
  "kernelspec": {
   "display_name": "Python 3",
   "language": "python",
   "name": "python3"
  },
  "language_info": {
   "codemirror_mode": {
    "name": "ipython",
    "version": 3
   },
   "file_extension": ".py",
   "mimetype": "text/x-python",
   "name": "python",
   "nbconvert_exporter": "python",
   "pygments_lexer": "ipython3",
   "version": "3.6.7"
  }
 },
 "nbformat": 4,
 "nbformat_minor": 2
}
